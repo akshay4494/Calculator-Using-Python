{
 "cells": [
  {
   "cell_type": "code",
   "execution_count": 1,
   "metadata": {},
   "outputs": [
    {
     "name": "stdout",
     "output_type": "stream",
     "text": [
      "My Calculator\n",
      "Type 'quit' to exit\n",
      "\n",
      "Enter equation: 52+98\n",
      "150-98\n",
      "52*2\n",
      "104/15\n",
      "6.933333333333334*15\n",
      "104.0/2\n",
      "52.0+98\n",
      "150.0-52\n",
      "98.0quit\n",
      "Good Bye, Human\n"
     ]
    }
   ],
   "source": [
    "import re\n",
    "\n",
    "print(\"My Calculator\")\n",
    "print(\"Type 'quit' to exit\\n\")\n",
    "\n",
    "previous = 0\n",
    "run = True\n",
    "\n",
    "def performMath():\n",
    "    global run\n",
    "    global previous\n",
    "    equation = \"\"\n",
    "    if previous == 0:\n",
    "       equation = input(\"Enter equation: \")\n",
    "    else:\n",
    "        equation = input(str(previous))\n",
    "\n",
    "    if equation == 'quit':\n",
    "        print(\"Good Bye, Human\")\n",
    "        run = False\n",
    "    else:\n",
    "         equation = re.sub('[a-zA-Z,.:()\"]','',equation)\n",
    "\n",
    "         if previous == 0:\n",
    "            previous = eval(equation)\n",
    "         else:\n",
    "            previous = eval(str(previous) + equation)\n",
    "\n",
    "\n",
    "while run:\n",
    "    performMath()"
   ]
  }
 ],
 "metadata": {
  "kernelspec": {
   "display_name": "Python 3",
   "language": "python",
   "name": "python3"
  },
  "language_info": {
   "codemirror_mode": {
    "name": "ipython",
    "version": 3
   },
   "file_extension": ".py",
   "mimetype": "text/x-python",
   "name": "python",
   "nbconvert_exporter": "python",
   "pygments_lexer": "ipython3",
   "version": "3.7.6"
  }
 },
 "nbformat": 4,
 "nbformat_minor": 4
}
